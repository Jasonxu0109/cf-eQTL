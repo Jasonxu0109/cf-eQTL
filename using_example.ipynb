{
 "cells": [
  {
   "cell_type": "markdown",
   "metadata": {},
   "source": [
    "我们提供了复现ct-eQTL中单细胞数据预处理结果所需的R代码。\n",
    "\n",
    "We provide the R script needed to reproduce the processed scRNA-seq datasets results of ct-eQTL."
   ]
  },
  {
   "cell_type": "code",
   "execution_count": 1,
   "metadata": {},
   "outputs": [
    {
     "name": "stderr",
     "output_type": "stream",
     "text": [
      "Warning message:\n",
      "\"package 'Seurat' was built under R version 4.0.5\"\n",
      "Attaching SeuratObject\n",
      "\n",
      "Loading required package: reticulate\n",
      "\n",
      "Warning message:\n",
      "\"package 'reticulate' was built under R version 4.0.5\"\n",
      "Warning message:\n",
      "\"package 'data.table' was built under R version 4.0.5\"\n",
      "Warning message:\n",
      "\"package 'tidyverse' was built under R version 4.0.5\"\n",
      "Registered S3 method overwritten by 'cli':\n",
      "  method     from         \n",
      "  print.boxx spatstat.geom\n",
      "\n",
      "-- \u001b[1mAttaching packages\u001b[22m ------------------------------------------------------------------------------- tidyverse 1.3.1 --\n",
      "\n",
      "\u001b[32mv\u001b[39m \u001b[34mggplot2\u001b[39m 3.3.5     \u001b[32mv\u001b[39m \u001b[34mpurrr  \u001b[39m 0.3.4\n",
      "\u001b[32mv\u001b[39m \u001b[34mtibble \u001b[39m 3.1.6     \u001b[32mv\u001b[39m \u001b[34mdplyr  \u001b[39m 1.0.7\n",
      "\u001b[32mv\u001b[39m \u001b[34mtidyr  \u001b[39m 1.1.4     \u001b[32mv\u001b[39m \u001b[34mstringr\u001b[39m 1.4.0\n",
      "\u001b[32mv\u001b[39m \u001b[34mreadr  \u001b[39m 2.1.1     \u001b[32mv\u001b[39m \u001b[34mforcats\u001b[39m 0.5.1\n",
      "\n",
      "Warning message:\n",
      "\"package 'ggplot2' was built under R version 4.0.5\"\n",
      "Warning message:\n",
      "\"package 'tibble' was built under R version 4.0.5\"\n",
      "Warning message:\n",
      "\"package 'tidyr' was built under R version 4.0.5\"\n",
      "Warning message:\n",
      "\"package 'readr' was built under R version 4.0.5\"\n",
      "Warning message:\n",
      "\"package 'dplyr' was built under R version 4.0.5\"\n",
      "Warning message:\n",
      "\"package 'stringr' was built under R version 4.0.5\"\n",
      "Warning message:\n",
      "\"package 'forcats' was built under R version 4.0.5\"\n",
      "-- \u001b[1mConflicts\u001b[22m ---------------------------------------------------------------------------------- tidyverse_conflicts() --\n",
      "\u001b[31mx\u001b[39m \u001b[34mdplyr\u001b[39m::\u001b[32mbetween()\u001b[39m   masks \u001b[34mdata.table\u001b[39m::between()\n",
      "\u001b[31mx\u001b[39m \u001b[34mdplyr\u001b[39m::\u001b[32mfilter()\u001b[39m    masks \u001b[34mstats\u001b[39m::filter()\n",
      "\u001b[31mx\u001b[39m \u001b[34mdplyr\u001b[39m::\u001b[32mfirst()\u001b[39m     masks \u001b[34mdata.table\u001b[39m::first()\n",
      "\u001b[31mx\u001b[39m \u001b[34mdplyr\u001b[39m::\u001b[32mlag()\u001b[39m       masks \u001b[34mstats\u001b[39m::lag()\n",
      "\u001b[31mx\u001b[39m \u001b[34mdplyr\u001b[39m::\u001b[32mlast()\u001b[39m      masks \u001b[34mdata.table\u001b[39m::last()\n",
      "\u001b[31mx\u001b[39m \u001b[34mpurrr\u001b[39m::\u001b[32mtranspose()\u001b[39m masks \u001b[34mdata.table\u001b[39m::transpose()\n",
      "\n",
      "Warning message:\n",
      "\"package 'anndata' was built under R version 4.0.5\"\n",
      "\n",
      "Attaching package: 'anndata'\n",
      "\n",
      "\n",
      "The following object is masked from 'package:readr':\n",
      "\n",
      "    read_csv\n",
      "\n",
      "\n",
      "The following object is masked from 'package:readxl':\n",
      "\n",
      "    read_excel\n",
      "\n",
      "\n",
      "Registered S3 method overwritten by 'SeuratDisk':\n",
      "  method            from  \n",
      "  as.sparse.H5Group Seurat\n",
      "\n"
     ]
    }
   ],
   "source": [
    "# 载入需要的R包\n",
    "# Load the required packages\n",
    "library(Seurat)\n",
    "library(sceasy)\n",
    "library(data.table)\n",
    "library(readxl)\n",
    "library(tidyverse)\n",
    "library(anndata)\n",
    "library(SeuratDisk)"
   ]
  },
  {
   "cell_type": "code",
   "execution_count": 3,
   "metadata": {},
   "outputs": [],
   "source": [
    "# dataset: GSE161332\n",
    "# tissue: Leaf\n",
    "# Species: Arabidopsis thaliana\n",
    "# file_type: txt; 10x"
   ]
  },
  {
   "cell_type": "code",
   "execution_count": 6,
   "metadata": {},
   "outputs": [],
   "source": [
    "source('RNAAnnotateCelltype.r') # RNAAnnotateCelltype function from MAESTRO R package"
   ]
  },
  {
   "cell_type": "code",
   "execution_count": 7,
   "metadata": {},
   "outputs": [],
   "source": [
    "# processing of GSE121619 dataset\n",
    "dataset <- 'GSE161332' # 设置要处理的数据集如：GSE161332\n",
    "# tissue type: Leaf\n",
    "tissue <- 'Leaf' # 设置组织来源如：叶\n",
    "# Species: Arabidopsis thaliana\n",
    "Species <- 'Arabidopsis thaliana' # 设置物种如：拟南芥\n",
    "# file_type: txt; 10x\n",
    "file_type <- '10x' # 设置要处理的数据集的格式如：根据GEO下载数据的格式有txt和10X的格式，可以设置txt或10x"
   ]
  },
  {
   "cell_type": "code",
   "execution_count": 8,
   "metadata": {},
   "outputs": [],
   "source": [
    "# load dataset function\n",
    "read_data <- function(dataset,tissue,Species,file_type){\n",
    "    if(file_type=='10x'){\n",
    "        files <- list.dirs(path=dataset,recursive = F)\n",
    "        datasets <- lapply(files,function(f){\n",
    "            fn <- paste0(f,'/filtered_feature_bc_matrix')\n",
    "            print(f)\n",
    "            f <- unlist(strsplit(f,'/'))[2]\n",
    "            # Setup the Seurat objects\n",
    "            expr <- Read10X(fn)\n",
    "            obj <- CreateSeuratObject(counts = expr, project = f, min.cells = 3, min.features = 200) # 构建Seurat对象\n",
    "            obj <- subset(obj, subset = nFeature_RNA > 200 & nCount_RNA > 1000)\n",
    "            # SCTransform\n",
    "            obj <- SCTransform(obj, verbose = FALSE)\n",
    "            return(obj)\n",
    "        })\n",
    "    }else if(file_type=='txt'){\n",
    "        files <- list.files(dataset,pattern='txt',recursive = T)\n",
    "        datasets <- lapply(files,function(f){\n",
    "            fn <- paste0(dataset,'/',f)\n",
    "            f <- gsub('.txt','',f)\n",
    "            expr <- fread(fn)\n",
    "            expr <- data.frame(expr,check.names = F)\n",
    "            rownames(expr) <- expr$GENE\n",
    "            expr <- expr[,-1]\n",
    "            # Setup the Seurat objects\n",
    "            obj <- CreateSeuratObject(counts = expr, project = f, min.cells = 3, min.features = 200) # 构建Seurat对象\n",
    "            obj <- subset(obj, subset = nFeature_RNA > 200 & nCount_RNA > 1000)\n",
    "            # SCTransform\n",
    "            obj <- SCTransform(obj, verbose = FALSE)    \n",
    "            return(obj)\n",
    "        })\n",
    "    }\n",
    "    return(datasets)\n",
    "}"
   ]
  },
  {
   "cell_type": "code",
   "execution_count": null,
   "metadata": {},
   "outputs": [],
   "source": [
    "# load dataset\n",
    "datasets <- read_data(dataset,tissue,Species,file_type)"
   ]
  },
  {
   "cell_type": "code",
   "execution_count": 10,
   "metadata": {
    "scrolled": true
   },
   "outputs": [],
   "source": [
    "# 数据整合\n",
    "if(length(datasets)>1){\n",
    "    # # select features that are repeatedly variable across datasets for integration\n",
    "    features <- SelectIntegrationFeatures(object.list = datasets, nfeatures = 8000)\n",
    "    # Run the PrepSCTIntegration() function prior to identifying anchors\n",
    "    datasets <- PrepSCTIntegration(object.list = datasets, anchor.features = features, verbose = TRUE)\n",
    "    datasets <- lapply(X = datasets, FUN = RunPCA, verbose = FALSE, features = features)\n",
    "    # Integration\n",
    "    anchors <- FindIntegrationAnchors(object.list = datasets, normalization.method = \"SCT\",\n",
    "                                         anchor.features = features, verbose = TRUE, reference=1,reduction = \"cca\")\n",
    "    objs <- IntegrateData(anchorset = anchors, normalization.method = \"SCT\", verbose = TRUE)\n",
    "    rm(features,datasets,anchors)\n",
    "}else{\n",
    "    objs <- datasets[[1]]\n",
    "    rm(datasets)\n",
    "}"
   ]
  },
  {
   "cell_type": "code",
   "execution_count": 11,
   "metadata": {},
   "outputs": [],
   "source": [
    "# Run PCA\n",
    "objs <- RunPCA(objs, verbose = FALSE, approx = FALSE, npcs = 50)"
   ]
  },
  {
   "cell_type": "code",
   "execution_count": 12,
   "metadata": {},
   "outputs": [],
   "source": [
    "# Run UMAP\n",
    "objs <- RunUMAP(objs, reduction = \"pca\", dims = 1:50, umap.method = \"umap-learn\", metric = \"correlation\")"
   ]
  },
  {
   "cell_type": "code",
   "execution_count": 13,
   "metadata": {},
   "outputs": [],
   "source": [
    "# Run TSNE\n",
    "objs <- RunTSNE(objs, reduction = \"pca\",dims = 1:50,tsne.method = \"Rtsne\")"
   ]
  },
  {
   "cell_type": "code",
   "execution_count": 14,
   "metadata": {},
   "outputs": [
    {
     "name": "stderr",
     "output_type": "stream",
     "text": [
      "Computing nearest neighbor graph\n",
      "\n",
      "Computing SNN\n",
      "\n"
     ]
    }
   ],
   "source": [
    "# Find nearest neighbors\n",
    "objs <- FindNeighbors(objs, reduction = \"pca\",dims = 1:50)"
   ]
  },
  {
   "cell_type": "code",
   "execution_count": 15,
   "metadata": {},
   "outputs": [
    {
     "name": "stdout",
     "output_type": "stream",
     "text": [
      "Modularity Optimizer version 1.3.0 by Ludo Waltman and Nees Jan van Eck\n",
      "\n",
      "Number of nodes: 5186\n",
      "Number of edges: 175257\n",
      "\n",
      "Running Louvain algorithm with multilevel refinement...\n",
      "Maximum modularity in 10 random starts: 0.8548\n",
      "Number of communities: 20\n",
      "Elapsed time: 0 seconds\n"
     ]
    }
   ],
   "source": [
    "#  Find clusters\n",
    "objs <- FindClusters(objs, resolution = 1, algorithm = 2)"
   ]
  },
  {
   "cell_type": "code",
   "execution_count": 16,
   "metadata": {},
   "outputs": [
    {
     "data": {
      "text/html": [
       "'GSE161332'"
      ],
      "text/latex": [
       "'GSE161332'"
      ],
      "text/markdown": [
       "'GSE161332'"
      ],
      "text/plain": [
       "[1] \"GSE161332\""
      ]
     },
     "metadata": {},
     "output_type": "display_data"
    }
   ],
   "source": [
    "dataset"
   ]
  },
  {
   "cell_type": "code",
   "execution_count": 17,
   "metadata": {},
   "outputs": [],
   "source": [
    "objs@project.name <- dataset"
   ]
  },
  {
   "cell_type": "code",
   "execution_count": 18,
   "metadata": {},
   "outputs": [],
   "source": [
    "DefaultAssay(objs) <- 'SCT'"
   ]
  },
  {
   "cell_type": "code",
   "execution_count": 19,
   "metadata": {},
   "outputs": [
    {
     "name": "stderr",
     "output_type": "stream",
     "text": [
      "Calculating cluster 0\n",
      "\n",
      "Calculating cluster 1\n",
      "\n",
      "Calculating cluster 2\n",
      "\n",
      "Calculating cluster 3\n",
      "\n",
      "Calculating cluster 4\n",
      "\n",
      "Calculating cluster 5\n",
      "\n",
      "Calculating cluster 6\n",
      "\n",
      "Calculating cluster 7\n",
      "\n",
      "Calculating cluster 8\n",
      "\n",
      "Calculating cluster 9\n",
      "\n",
      "Calculating cluster 10\n",
      "\n",
      "Calculating cluster 11\n",
      "\n",
      "Calculating cluster 12\n",
      "\n",
      "Calculating cluster 13\n",
      "\n",
      "Calculating cluster 14\n",
      "\n",
      "Calculating cluster 15\n",
      "\n",
      "Calculating cluster 16\n",
      "\n",
      "Calculating cluster 17\n",
      "\n",
      "Calculating cluster 18\n",
      "\n",
      "Calculating cluster 19\n",
      "\n"
     ]
    }
   ],
   "source": [
    "# 寻找差异基因\n",
    "# differentially expressed genes\n",
    "DEG <- FindAllMarkers(objs,\n",
    "                        logfc.threshold=0.25,\n",
    "                        min.diff.pct = 0.25,\n",
    "                        max.cells.per.ident = 10000,\n",
    "                        only.pos=T)"
   ]
  },
  {
   "cell_type": "code",
   "execution_count": 20,
   "metadata": {},
   "outputs": [],
   "source": [
    "mark_gene <- DEG %>%\n",
    "    mutate(avg_logFC=avg_log2FC) %>%\n",
    "    filter(p_val_adj<0.05)"
   ]
  },
  {
   "cell_type": "code",
   "execution_count": 21,
   "metadata": {},
   "outputs": [],
   "source": [
    "save(mark_gene,file=paste0(dataset,'_mark_gene.RData'))"
   ]
  },
  {
   "cell_type": "code",
   "execution_count": 22,
   "metadata": {},
   "outputs": [
    {
     "data": {
      "text/html": [
       "'Arabidopsis thaliana'"
      ],
      "text/latex": [
       "'Arabidopsis thaliana'"
      ],
      "text/markdown": [
       "'Arabidopsis thaliana'"
      ],
      "text/plain": [
       "[1] \"Arabidopsis thaliana\""
      ]
     },
     "metadata": {},
     "output_type": "display_data"
    }
   ],
   "source": [
    "Species"
   ]
  },
  {
   "cell_type": "code",
   "execution_count": 23,
   "metadata": {},
   "outputs": [],
   "source": [
    "# 下载已知的标记基因做细胞注释\n",
    "# cell type annotation using known marker genes from plantscrnadb (http://ibi.zju.edu.cn/plantscrnadb/download.php)\n",
    "if(Species=='Arabidopsis thaliana'){\n",
    "    signature <- readxl::read_excel('../ath_doi_202104.xlsx')\n",
    "}else if(Species=='Zea mays'){\n",
    "    signature <- readxl::read_excel('../zma_doi_202104.xlsx')\n",
    "    signature$Tissue[grepl('Shoot apical',signature$Tissue)] <- 'Shoot'\n",
    "}else if(Species=='Oryza sativa'){\n",
    "    signature <- readxl::read_excel('../osa_doi_202104.xlsx')\n",
    "}"
   ]
  },
  {
   "cell_type": "code",
   "execution_count": 24,
   "metadata": {},
   "outputs": [],
   "source": [
    "# signature gene \n",
    "sig_gene <- signature %>%\n",
    "    as.data.frame() %>%\n",
    "    filter(Tissue==tissue) %>%\n",
    "    mutate(V1=`Cell Type`,V2=Cell_Marker) %>%\n",
    "    unique(.) %>%\n",
    "    select(V1,V2)"
   ]
  },
  {
   "cell_type": "code",
   "execution_count": 36,
   "metadata": {},
   "outputs": [],
   "source": [
    "# cell type annotation by RNAAnnotateCelltype function from MAESTRO R package.\n",
    "objs <- RNAAnnotateCelltype(objs, mark_gene, sig_gene, min.score = 0)"
   ]
  },
  {
   "cell_type": "code",
   "execution_count": 37,
   "metadata": {},
   "outputs": [],
   "source": [
    "# meta information\n",
    "meta <- read.csv(paste0(\"meta/\",dataset,\"_metaInfo.csv\"))\n",
    "objs@meta.data$Cells <- rownames(objs@meta.data)"
   ]
  },
  {
   "cell_type": "code",
   "execution_count": 38,
   "metadata": {},
   "outputs": [],
   "source": [
    "objs@meta.data <- merge(objs@meta.data, meta, by.x=\"orig.ident\",by.y=\"geo_accession\",all.x = TRUE)\n",
    "rownames(objs@meta.data) <- objs@meta.data$Cells "
   ]
  },
  {
   "cell_type": "code",
   "execution_count": null,
   "metadata": {},
   "outputs": [],
   "source": []
  },
  {
   "cell_type": "code",
   "execution_count": 40,
   "metadata": {},
   "outputs": [],
   "source": [
    "# save a single R object\n",
    "saveRDS(objs, file = paste0(dataset,'.rds'))"
   ]
  },
  {
   "cell_type": "code",
   "execution_count": null,
   "metadata": {},
   "outputs": [],
   "source": []
  }
 ],
 "metadata": {
  "kernelspec": {
   "display_name": "R",
   "language": "R",
   "name": "ir"
  },
  "language_info": {
   "codemirror_mode": "r",
   "file_extension": ".r",
   "mimetype": "text/x-r-source",
   "name": "R",
   "pygments_lexer": "r",
   "version": "4.0.2"
  }
 },
 "nbformat": 4,
 "nbformat_minor": 4
}
